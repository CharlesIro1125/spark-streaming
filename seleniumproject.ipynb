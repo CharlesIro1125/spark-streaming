{
 "cells": [
  {
   "cell_type": "code",
   "execution_count": 1,
   "metadata": {},
   "outputs": [],
   "source": [
    "from selenium import webdriver\n",
    "from selenium.webdriver.support.select import Select\n",
    "from selenium.webdriver.support.ui import WebDriverWait\n",
    "from selenium.webdriver.support import expected_conditions as EC\n",
    "from datetime import datetime\n",
    "import time"
   ]
  },
  {
   "cell_type": "code",
   "execution_count": 2,
   "metadata": {},
   "outputs": [],
   "source": [
    "import time\n",
    "from selenium import webdriver\n",
    "from selenium.webdriver.support.select import Select\n",
    "from selenium.webdriver.support.ui import WebDriverWait\n",
    "from selenium.webdriver.support import expected_conditions as EC\n",
    "from selenium.webdriver.support import expected_conditions as exp\n",
    "\n",
    "\n",
    "def downloader():\n",
    "    prefs = {\"download.default_directory\":\"C:\\\\Users\\\\iroch\\\\dev\\\\toprocess\",\"profile.default_content_settings.popups\":0}\n",
    "    \n",
    "        #https://s3.console.aws.amazon.com/s3/buckets/obinna-test?region=us-east-2\n",
    "\n",
    "    chrome_option= webdriver.ChromeOptions()\n",
    "    chrome_option.add_experimental_option(\"prefs\",prefs)\n",
    "    #chrome_option.add_argument('--headless')\n",
    "    chrome_option.add_argument('--disable-gpu')\n",
    "    #chrome_option.add_argument('--no-sandbox')\n",
    "    chrome_option.add_argument('window-size=800,600')\n",
    "    driver =webdriver.Chrome(options=chrome_option)\n",
    "    action= webdriver.ActionChains(driver)\n",
    "    driver.implicitly_wait(10)\n",
    "    driver.get(\"https://data.open-power-system-data.org/household_data/2020-04-15\")\n",
    "    WebDriverWait(driver,timeout=90).until(exp.url_matches(\"https://data.open-power-system-data.org/household_data/2020-04-15\"))\n",
    "    if WebDriverWait(driver,timeout=90).until(exp.url_matches(\"https://data.open-power-system-data.org/household_data/2020-04-15\")):\n",
    "            \n",
    "        element =WebDriverWait(driver,timeout =20).until(lambda d: d.find_elements_by_link_text('household_data_15min_singleindex.csv'))\n",
    "        assert element != []\n",
    "        driver.implicitly_wait(30)\n",
    "        #action1 = action.move_to_element(element[0])\n",
    "        action1 = WebDriverWait(action,timeout=90).until(lambda d: d.move_to_element(element[0]))\n",
    "        #action1 = action.move_to_element(element[0])\n",
    "        action1.click(element[0]).perform()\n",
    "        driver.implicitly_wait(20)\n",
    "        i = 0\n",
    "        while i < 4:\n",
    "            i += 1\n",
    "            time.sleep(60)\n",
    "            driver.quit()\n",
    "    else:\n",
    "        driver.quit()\n",
    "        downloader()\n",
    "        \n",
    "            \n",
    "if __name__ == '__main__':\n",
    "    downloader()\n",
    "    "
   ]
  },
  {
   "cell_type": "code",
   "execution_count": null,
   "metadata": {},
   "outputs": [],
   "source": []
  }
 ],
 "metadata": {
  "kernelspec": {
   "display_name": "Python 3",
   "language": "python",
   "name": "python3"
  },
  "language_info": {
   "codemirror_mode": {
    "name": "ipython",
    "version": 3
   },
   "file_extension": ".py",
   "mimetype": "text/x-python",
   "name": "python",
   "nbconvert_exporter": "python",
   "pygments_lexer": "ipython3",
   "version": "3.6.10"
  }
 },
 "nbformat": 4,
 "nbformat_minor": 4
}
