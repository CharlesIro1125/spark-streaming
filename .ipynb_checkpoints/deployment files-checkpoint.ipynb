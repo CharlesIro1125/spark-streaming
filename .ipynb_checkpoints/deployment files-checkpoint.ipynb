{
 "cells": [
  {
   "cell_type": "code",
   "execution_count": null,
   "metadata": {},
   "outputs": [],
   "source": [
    "[program:boards]\n",
    "command=/home/boards/venv/bin/python3.6  /home/boards/venv/bin/gunicorn --access-logfile - --workers 3 --bind unix:/home/boards/run/gunicorn.sock board.wsgi:applicationdirectory=/home/boards/Forecast-board\n",
    "user=boards\n",
    "autostart=true\n",
    "autorestart=true\n",
    "redirect_stderr=true\n",
    "stdout_logfile=/home/boards/logs/gunicorn.log\n"
   ]
  },
  {
   "cell_type": "code",
   "execution_count": null,
   "metadata": {},
   "outputs": [],
   "source": [
    "upstream app_server {\n",
    "    server unix:/home/boards/run/gunicorn.sock;\n",
    "}\n",
    "\n",
    "server {\n",
    "    listen 80;\n",
    "    server_name 165.232.77.131;\n",
    "\n",
    "    keepalive_timeout 5;\n",
    "    client_max_body_size 4G;\n",
    "\n",
    "    access_log /home/boards/logs/nginx-access.log;\n",
    "    error_log /home/boards/logs/nginx-error.log;\n",
    "\n",
    "    location /static/ {\n",
    "            alias /home/boards/staticfiles/;\n",
    "    }\n",
    "\n",
    "    location / {\n",
    "        try_files $uri @proxy_to_app;\n",
    "    }\n",
    "\n",
    "    location @proxy_to_app {\n",
    "      proxy_set_header X-Forwarded-For $proxy_add_x_forwarded_for;\n",
    "      proxy_set_header Host $http_host;\n",
    "      proxy_redirect off;\n",
    "      proxy_pass http://app_server;\n",
    "   }                                                                                                                                                                    }"
   ]
  },
  {
   "cell_type": "code",
   "execution_count": null,
   "metadata": {},
   "outputs": [],
   "source": [
    "[Unit]\n",
    "Description=gunicorn daemon\n",
    "After=network.target\n",
    "\n",
    "[Service]\n",
    "User=boards\n",
    "Group=boards\n",
    "WorkingDirectory=/home/boards/Forecast-board\n",
    "ExecStart=/home/boards/venv/bin/gunicorn --access-logfile - --workers 3 --bind unix:/home/boards/run/gunicorn.sock board.wsgi:application\n",
    "\n",
    "[Install]\n",
    "WantedBy=multi-user.target\n",
    "~                     "
   ]
  }
 ],
 "metadata": {
  "kernelspec": {
   "display_name": "Python 3",
   "language": "python",
   "name": "python3"
  },
  "language_info": {
   "codemirror_mode": {
    "name": "ipython",
    "version": 3
   },
   "file_extension": ".py",
   "mimetype": "text/x-python",
   "name": "python",
   "nbconvert_exporter": "python",
   "pygments_lexer": "ipython3",
   "version": "3.6.10"
  }
 },
 "nbformat": 4,
 "nbformat_minor": 4
}
